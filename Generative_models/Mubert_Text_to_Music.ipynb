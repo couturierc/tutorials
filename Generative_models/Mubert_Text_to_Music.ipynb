{
  "nbformat": 4,
  "nbformat_minor": 0,
  "metadata": {
    "colab": {
      "provenance": [],
      "collapsed_sections": []
    },
    "kernelspec": {
      "name": "python3",
      "display_name": "Python 3"
    },
    "language_info": {
      "name": "python"
    },
    "accelerator": "TPU"
  },
  "cells": [
    {
      "cell_type": "markdown",
      "source": [
        "# **Mubert Text to Music ✍ ➡ 🎹🎵🔊**\n",
        "\n",
        "A simple notebook demonstrating prompt-based music generation via [Mubert](https://mubert.com) [API](https://mubert2.docs.apiary.io/)"
      ],
      "metadata": {
        "id": "gHJPhnu7Lg2v"
      }
    },
    {
      "cell_type": "code",
      "execution_count": 2,
      "metadata": {
        "id": "GPdDFKWVVnif"
      },
      "outputs": [],
      "source": []
    },
    {
      "cell_type": "code",
      "source": [],
      "metadata": {
        "cellView": "form",
        "id": "yW-3aTNYvKM_"
      },
      "execution_count": null,
      "outputs": []
    },
    {
      "cell_type": "code",
      "source": [],
      "metadata": {
        "cellView": "form",
        "id": "a4ACdvWLRJ5U"
      },
      "execution_count": null,
      "outputs": []
    },
    {
      "cell_type": "code",
      "source": [],
      "metadata": {
        "cellView": "form",
        "id": "hTf7sZcfbI0K"
      },
      "execution_count": null,
      "outputs": []
    },
    {
      "cell_type": "markdown",
      "source": [
        "### **Batch generation 🎶**"
      ],
      "metadata": {
        "id": "wSKTfub-bitp"
      }
    },
    {
      "cell_type": "code",
      "source": [
        "duration = 60\n",
        "\n",
        "prompts = [\n",
        "    'Selma plays piano',\n",
        "    'Selma plays piano with Benoit'\n",
        "]\n",
        "\n",
        "tags = get_tags_for_prompts(prompts)\n",
        "\n",
        "for i, tag in enumerate(tags):\n",
        "  print(f'Prompt: {tag[0]}\\nTags: {tag[1]}')\n",
        "  try:\n",
        "    get_track_by_tags(tag[1], pat, duration, autoplay=False)\n",
        "  except Exception as e:\n",
        "    print(str(e))\n",
        "  print('\\n')"
      ],
      "metadata": {
        "id": "BzrhcwIHXlg0",
        "outputId": "48dc0e03-c430-452b-8c6b-b82975b8544a",
        "colab": {
          "base_uri": "https://localhost:8080/",
          "height": 243
        }
      },
      "execution_count": 2,
      "outputs": [
        {
          "output_type": "error",
          "ename": "NameError",
          "evalue": "ignored",
          "traceback": [
            "\u001b[0;31m---------------------------------------------------------------------------\u001b[0m",
            "\u001b[0;31mNameError\u001b[0m                                 Traceback (most recent call last)",
            "\u001b[0;32m<ipython-input-2-dd1137cb025d>\u001b[0m in \u001b[0;36m<module>\u001b[0;34m\u001b[0m\n\u001b[1;32m      6\u001b[0m ]\n\u001b[1;32m      7\u001b[0m \u001b[0;34m\u001b[0m\u001b[0m\n\u001b[0;32m----> 8\u001b[0;31m \u001b[0mtags\u001b[0m \u001b[0;34m=\u001b[0m \u001b[0mget_tags_for_prompts\u001b[0m\u001b[0;34m(\u001b[0m\u001b[0mprompts\u001b[0m\u001b[0;34m)\u001b[0m\u001b[0;34m\u001b[0m\u001b[0;34m\u001b[0m\u001b[0m\n\u001b[0m\u001b[1;32m      9\u001b[0m \u001b[0;34m\u001b[0m\u001b[0m\n\u001b[1;32m     10\u001b[0m \u001b[0;32mfor\u001b[0m \u001b[0mi\u001b[0m\u001b[0;34m,\u001b[0m \u001b[0mtag\u001b[0m \u001b[0;32min\u001b[0m \u001b[0menumerate\u001b[0m\u001b[0;34m(\u001b[0m\u001b[0mtags\u001b[0m\u001b[0;34m)\u001b[0m\u001b[0;34m:\u001b[0m\u001b[0;34m\u001b[0m\u001b[0;34m\u001b[0m\u001b[0m\n",
            "\u001b[0;31mNameError\u001b[0m: name 'get_tags_for_prompts' is not defined"
          ]
        }
      ]
    },
    {
      "cell_type": "code",
      "source": [],
      "metadata": {
        "id": "JieLk6kjZFai"
      },
      "execution_count": null,
      "outputs": []
    }
  ]
}